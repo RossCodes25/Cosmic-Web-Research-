{
 "cells": [
  {
   "cell_type": "markdown",
   "id": "dc1d2b9e",
   "metadata": {},
   "source": [
    "# Plot one 2D map as an image:"
   ]
  },
  {
   "cell_type": "code",
   "execution_count": 10,
   "id": "325e330f",
   "metadata": {},
   "outputs": [
    {
     "ename": "ImportError",
     "evalue": "cannot import name 'maps_1p_TNG_MGAS' from 'data_storage' (/Users/rossmcphee/Desktop/CAMELS/Cosmic-Web-Research-/data_storage.py)",
     "output_type": "error",
     "traceback": [
      "\u001b[0;31m---------------------------------------------------------------------------\u001b[0m",
      "\u001b[0;31mImportError\u001b[0m                               Traceback (most recent call last)",
      "Cell \u001b[0;32mIn[10], line 4\u001b[0m\n\u001b[1;32m      2\u001b[0m \u001b[38;5;28;01mimport\u001b[39;00m \u001b[38;5;21;01mmatplotlib\u001b[39;00m\u001b[38;5;21;01m.\u001b[39;00m\u001b[38;5;21;01mpyplot\u001b[39;00m \u001b[38;5;28;01mas\u001b[39;00m \u001b[38;5;21;01mplt\u001b[39;00m\n\u001b[1;32m      3\u001b[0m \u001b[38;5;28;01mimport\u001b[39;00m \u001b[38;5;21;01mmatplotlib\u001b[39;00m\u001b[38;5;21;01m.\u001b[39;00m\u001b[38;5;21;01mcolors\u001b[39;00m \u001b[38;5;28;01mas\u001b[39;00m \u001b[38;5;21;01mcolors\u001b[39;00m\n\u001b[0;32m----> 4\u001b[0m \u001b[38;5;28;01mfrom\u001b[39;00m \u001b[38;5;21;01mdata_storage\u001b[39;00m \u001b[38;5;28;01mimport\u001b[39;00m params, maps_1p_TNG_MGAS, maps_1p_TNG_HI\n\u001b[1;32m      7\u001b[0m \u001b[38;5;66;03m#pick a map number\u001b[39;00m\n\u001b[1;32m      8\u001b[0m map_number \u001b[38;5;241m=\u001b[39m \u001b[38;5;241m1\u001b[39m\n",
      "\u001b[0;31mImportError\u001b[0m: cannot import name 'maps_1p_TNG_MGAS' from 'data_storage' (/Users/rossmcphee/Desktop/CAMELS/Cosmic-Web-Research-/data_storage.py)"
     ]
    }
   ],
   "source": [
    "import numpy as np\n",
    "import matplotlib.pyplot as plt\n",
    "import matplotlib.colors as colors\n",
    "from data_storage import params, maps_1p_TNG_MGAS, maps_1p_TNG_HI\n",
    "\n",
    "\n",
    "#pick a map number\n",
    "map_number = 1\n",
    "\n",
    "#find the parameters that correspond to the 3D box that this 2D map comes from\n",
    "params_map = params[map_number//15]\n",
    "# This is good for selecting a good map for showing representatuon\n",
    "plt.imshow(np.log10(maps_1p_TNG_HI[map_number]),cmap=plt.get_cmap('binary_r'), origin='lower', interpolation='bicubic')\n",
    "plt.show()\n",
    "print('Value of the parameters for this map')\n",
    "print('Omega_m: %.5f'%params_map[0])\n",
    "print('sigma_8: %.5f'%params_map[1])\n",
    "print('A_SN1:   %.5f'%params_map[2])\n",
    "print('A_AGN1:  %.5f'%params_map[3])\n",
    "print('A_SN2:   %.5f'%params_map[4])\n",
    "print('A_AGN2:  %.5f'%params_map[5])\n",
    "\n",
    "map_number += 15\n",
    "params_map = params[map_number//15]\n",
    "\n",
    "plt.imshow(np.log10(maps_1p_TNG_HI[map_number]),cmap=plt.get_cmap('binary_r'), origin='lower', interpolation='bicubic')\n",
    "plt.show()\n",
    "print('Value of the parameters for this map')\n",
    "print('Omega_m: %.5f'%params_map[0])\n",
    "print('sigma_8: %.5f'%params_map[1])\n",
    "print('A_SN1:   %.5f'%params_map[2])\n",
    "print('A_AGN1:  %.5f'%params_map[3])\n",
    "print('A_SN2:   %.5f'%params_map[4])\n",
    "print('A_AGN2:  %.5f'%params_map[5])\n",
    "\n",
    "map_number +=15\n",
    "params_map = params[map_number//15]\n",
    "\n",
    "plt.imshow(np.log10(maps_1p_TNG_HI[map_number]),cmap=plt.get_cmap('binary_r'), origin='lower')\n",
    "plt.colorbar(label='HI Gas Mass Surface Density [log M$_\\odot/h$ (kpc/h)$^{-2}$]')\n",
    "plt.show()\n",
    "print('Value of the parameters for this map')\n",
    "print('Omega_m: %.5f'%params_map[0])\n",
    "print('sigma_8: %.5f'%params_map[1])\n",
    "print('A_SN1:   %.5f'%params_map[2])\n",
    "print('A_AGN1:  %.5f'%params_map[3])\n",
    "print('A_SN2:   %.5f'%params_map[4])\n",
    "print('A_AGN2:  %.5f'%params_map[5])"
   ]
  },
  {
   "cell_type": "markdown",
   "id": "50a21daa",
   "metadata": {},
   "source": [
    "## Next we will take two maps with a different $\\Omega_m$ and take the difference, to see how changing the matter density of the Universe impacts on the distribution of HI gas.\n",
    "\n",
    "## We will want to compare the same \"slice\" but with different parameters, therefore we need to \"jump\" at least 15 in the map index. "
   ]
  },
  {
   "cell_type": "code",
   "execution_count": 9,
   "id": "ab2b8a57",
   "metadata": {},
   "outputs": [
    {
     "ename": "NameError",
     "evalue": "name 'maps_1p_TNG_HI' is not defined",
     "output_type": "error",
     "traceback": [
      "\u001b[0;31m---------------------------------------------------------------------------\u001b[0m",
      "\u001b[0;31mNameError\u001b[0m                                 Traceback (most recent call last)",
      "Cell \u001b[0;32mIn[9], line 9\u001b[0m\n\u001b[1;32m      6\u001b[0m params_map2 \u001b[38;5;241m=\u001b[39m params[(map2\u001b[38;5;241m/\u001b[39m\u001b[38;5;241m/\u001b[39m\u001b[38;5;241m15\u001b[39m)]\n\u001b[1;32m      8\u001b[0m \u001b[38;5;66;03m#take the absolute difference between the two maps\u001b[39;00m\n\u001b[0;32m----> 9\u001b[0m diff \u001b[38;5;241m=\u001b[39m \u001b[38;5;28mabs\u001b[39m(\u001b[43mmaps_1p_TNG_HI\u001b[49m[map1]\u001b[38;5;241m-\u001b[39mmaps_1p_TNG_HI[map2])\n\u001b[1;32m     10\u001b[0m np\u001b[38;5;241m.\u001b[39mshape(diff)\n\u001b[1;32m     12\u001b[0m \u001b[38;5;66;03m#show both maps and the residuals\u001b[39;00m\n",
      "\u001b[0;31mNameError\u001b[0m: name 'maps_1p_TNG_HI' is not defined"
     ]
    }
   ],
   "source": [
    "# residual between two maps\n",
    "map1 = 1 #pick a map\n",
    "params_map1 = params[(map1//15)]\n",
    "\n",
    "map2 = map1+15*2 #pick a map that corresponds to the same slice but with a different parameter. \n",
    "params_map2 = params[(map2//15)]\n",
    "\n",
    "#take the absolute difference between the two maps\n",
    "diff = abs(maps_1p_TNG_HI[map1]-maps_1p_TNG_HI[map2])\n",
    "np.shape(diff)\n",
    "\n",
    "#show both maps and the residuals\n",
    "fig, axs = plt.subplots(1, 3, figsize=(20, 5))\n",
    "\n",
    "im1 = axs[0].imshow(np.log10(maps_1p_TNG_HI[map1]),cmap=plt.get_cmap('Blues_r'), origin='lower')\n",
    "fig.colorbar(im1, ax=axs[0],label='HI Gas Mass Surface Density [log M$_\\odot/h$ (kpc/h)$^{-2}$]')\n",
    "\n",
    "#print the values of the parameters to make sure we're varying what we want to vary\n",
    "print('Value of the parameters for map1')\n",
    "print('Omega_m: %.5f'%params_map1[0])\n",
    "print('sigma_8: %.5f'%params_map1[1])\n",
    "print('A_SN1:   %.5f'%params_map1[2])\n",
    "print('A_AGN1:  %.5f'%params_map1[3])\n",
    "print('A_SN2:   %.5f'%params_map1[4])\n",
    "print('A_AGN2:  %.5f'%params_map1[5])\n",
    "\n",
    "im2 = axs[1].imshow(np.log10(maps_1p_TNG_HI[map2]),cmap=plt.get_cmap('Blues_r'), origin='lower')\n",
    "fig.colorbar(im2, ax=axs[1], label='HI Gas Mass Surface Density [log M$_\\odot/h$ (kpc/h)$^{-2}$]')\n",
    "print('Value of the parameters for map2')\n",
    "print('Omega_m: %.5f'%params_map2[0])\n",
    "print('sigma_8: %.5f'%params_map2[1])\n",
    "print('A_SN1:   %.5f'%params_map2[2])\n",
    "print('A_AGN1:  %.5f'%params_map2[3])\n",
    "print('A_SN2:   %.5f'%params_map2[4])\n",
    "print('A_AGN2:  %.5f'%params_map2[5])\n",
    "\n",
    "im3 = axs[2].imshow(np.log10(diff),cmap=plt.get_cmap('Blues_r'), origin='lower')\n",
    "fig.colorbar(im3, ax=axs[2], label='Residual [log M$_\\odot/h$ (kpc/h)$^{-2}$]' )\n",
    "\n",
    "#save to PDF\n",
    "plt.savefig(\"test-image.pdf\", format=\"pdf\", bbox_inches=\"tight\")\n",
    "\n",
    "# next i want to plot them in sections side by side\n",
    "# Eg, omegam, sigma8 this will be one section \n",
    "# then plot AGN1 res next to SN1 res \n",
    "# then plot AGN2 res next to SN2 res\n",
    "# but importantly I want to analyse increases and decreases using bsolutes and non absolutes "
   ]
  },
  {
   "cell_type": "markdown",
   "id": "9927858a",
   "metadata": {},
   "source": [
    "## New method for Mgas "
   ]
  },
  {
   "cell_type": "code",
   "execution_count": 8,
   "id": "5a4208a4",
   "metadata": {},
   "outputs": [
    {
     "ename": "NameError",
     "evalue": "name 'maps_1p_TNG_MGAS' is not defined",
     "output_type": "error",
     "traceback": [
      "\u001b[0;31m---------------------------------------------------------------------------\u001b[0m",
      "\u001b[0;31mNameError\u001b[0m                                 Traceback (most recent call last)",
      "Cell \u001b[0;32mIn[8], line 7\u001b[0m\n\u001b[1;32m      5\u001b[0m params_map \u001b[38;5;241m=\u001b[39m params[map_number\u001b[38;5;241m/\u001b[39m\u001b[38;5;241m/\u001b[39m\u001b[38;5;241m15\u001b[39m]\n\u001b[1;32m      6\u001b[0m \u001b[38;5;66;03m# This is good for selecting a good map for showing representatuon\u001b[39;00m\n\u001b[0;32m----> 7\u001b[0m plt\u001b[38;5;241m.\u001b[39mimshow(np\u001b[38;5;241m.\u001b[39mlog10(\u001b[43mmaps_1p_TNG_MGAS\u001b[49m[map_number]),cmap\u001b[38;5;241m=\u001b[39mplt\u001b[38;5;241m.\u001b[39mget_cmap(\u001b[38;5;124m'\u001b[39m\u001b[38;5;124mbinary_r\u001b[39m\u001b[38;5;124m'\u001b[39m), origin\u001b[38;5;241m=\u001b[39m\u001b[38;5;124m'\u001b[39m\u001b[38;5;124mlower\u001b[39m\u001b[38;5;124m'\u001b[39m, interpolation\u001b[38;5;241m=\u001b[39m\u001b[38;5;124m'\u001b[39m\u001b[38;5;124mbicubic\u001b[39m\u001b[38;5;124m'\u001b[39m)\n\u001b[1;32m      8\u001b[0m plt\u001b[38;5;241m.\u001b[39mshow()\n\u001b[1;32m      9\u001b[0m \u001b[38;5;28mprint\u001b[39m(\u001b[38;5;124m'\u001b[39m\u001b[38;5;124mValue of the parameters for this map\u001b[39m\u001b[38;5;124m'\u001b[39m)\n",
      "\u001b[0;31mNameError\u001b[0m: name 'maps_1p_TNG_MGAS' is not defined"
     ]
    }
   ],
   "source": [
    "#pick a map number\n",
    "map_number = 1\n",
    "\n",
    "#find the parameters that correspond to the 3D box that this 2D map comes from\n",
    "params_map = params[map_number//15]\n",
    "# This is good for selecting a good map for showing representatuon\n",
    "plt.imshow(np.log10(maps_1p_TNG_MGAS[map_number]),cmap=plt.get_cmap('binary_r'), origin='lower', interpolation='bicubic')\n",
    "plt.show()\n",
    "print('Value of the parameters for this map')\n",
    "print('Omega_m: %.5f'%params_map[0])\n",
    "print('sigma_8: %.5f'%params_map[1])\n",
    "print('A_SN1:   %.5f'%params_map[2])\n",
    "print('A_AGN1:  %.5f'%params_map[3])\n",
    "print('A_SN2:   %.5f'%params_map[4])\n",
    "print('A_AGN2:  %.5f'%params_map[5])\n",
    "\n",
    "map_number += 15\n",
    "params_map = params[map_number//15]\n",
    "\n",
    "plt.imshow(np.log10(maps_1p_TNG_MGAS[map_number]),cmap=plt.get_cmap('binary_r'), origin='lower', interpolation='bicubic')\n",
    "plt.show()\n",
    "print('Value of the parameters for this map')\n",
    "print('Omega_m: %.5f'%params_map[0])\n",
    "print('sigma_8: %.5f'%params_map[1])\n",
    "print('A_SN1:   %.5f'%params_map[2])\n",
    "print('A_AGN1:  %.5f'%params_map[3])\n",
    "print('A_SN2:   %.5f'%params_map[4])\n",
    "print('A_AGN2:  %.5f'%params_map[5])\n",
    "\n",
    "map_number +=15\n",
    "params_map = params[map_number//15]\n",
    "\n",
    "plt.imshow(np.log10(maps_1p_TNG_MGAS[map_number]),cmap=plt.get_cmap('binary_r'), origin='lower')\n",
    "plt.colorbar(label='HI Gas Mass Surface Density [log M$_\\odot/h$ (kpc/h)$^{-2}$]')\n",
    "plt.show()\n",
    "print('Value of the parameters for this map')\n",
    "print('Omega_m: %.5f'%params_map[0])\n",
    "print('sigma_8: %.5f'%params_map[1])\n",
    "print('A_SN1:   %.5f'%params_map[2])\n",
    "print('A_AGN1:  %.5f'%params_map[3])\n",
    "print('A_SN2:   %.5f'%params_map[4])\n",
    "print('A_AGN2:  %.5f'%params_map[5])"
   ]
  },
  {
   "cell_type": "code",
   "execution_count": null,
   "id": "33ffa692",
   "metadata": {},
   "outputs": [],
   "source": []
  }
 ],
 "metadata": {
  "kernelspec": {
   "display_name": "Python 3",
   "language": "python",
   "name": "python3"
  },
  "language_info": {
   "codemirror_mode": {
    "name": "ipython",
    "version": 3
   },
   "file_extension": ".py",
   "mimetype": "text/x-python",
   "name": "python",
   "nbconvert_exporter": "python",
   "pygments_lexer": "ipython3",
   "version": "3.10.6"
  }
 },
 "nbformat": 4,
 "nbformat_minor": 5
}
